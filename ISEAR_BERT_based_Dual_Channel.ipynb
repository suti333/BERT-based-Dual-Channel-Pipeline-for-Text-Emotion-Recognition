{
  "cells": [
    {
      "cell_type": "code",
      "execution_count": 1,
      "metadata": {
        "id": "KqvH4TgCaiTX"
      },
      "outputs": [],
      "source": [
        "import numpy as np\n",
        "import pandas as pd\n",
        "import torch\n",
        "import torch.nn as nn\n",
        "import torch.nn.functional as F\n",
        "from sklearn import preprocessing\n",
        "from transformers import BertTokenizer, BertModel\n",
        "from sklearn.model_selection import train_test_split\n",
        "from torch.utils.data import DataLoader, TensorDataset\n",
        "from torch.optim import AdamW\n",
        "from sklearn.metrics import precision_score, recall_score, f1_score, confusion_matrix, classification_report\n",
        "import matplotlib.pyplot as plt\n",
        "import seaborn as sns"
      ]
    },
    {
      "cell_type": "markdown",
      "metadata": {
        "id": "3YwmKpehRDlT"
      },
      "source": [
        "## Model Architecture\n",
        "![model_architecture.png](./model_architecture.png)"
      ]
    },
    {
      "cell_type": "code",
      "execution_count": 2,
      "metadata": {
        "id": "yUzPH_KXlgmQ"
      },
      "outputs": [],
      "source": [
        "ISEAR_CSV = \"./datasets_csv/ISEAR_dataset.csv\"\n",
        "CLASS_LABELS = ['Anger', 'Fear', 'Joy', 'Sadness']\n",
        "BERT_CONFIG = \"bert-base-uncased\"\n",
        "MAX_LEN = 256\n",
        "BATCH_SIZE = 16\n",
        "NUM_CLASSES = 4\n",
        "LEARNING_RATE = 2e-5\n",
        "EPOCHS = 10"
      ]
    },
    {
      "cell_type": "code",
      "execution_count": 3,
      "metadata": {
        "id": "wgcth4tlFMjI"
      },
      "outputs": [],
      "source": [
        "class DualChannelModule(nn.Module):\n",
        "    def __init__(self, input_size, lstm_hidden_size, dropout_val):\n",
        "        super(DualChannelModule, self).__init__()\n",
        "        self.channel1_bilstm = nn.LSTM(input_size=input_size, hidden_size=lstm_hidden_size, num_layers=1, batch_first=True, bidirectional=True)\n",
        "        self.channel1_conv = nn.Conv1d(in_channels=lstm_hidden_size*2, out_channels=32, kernel_size=400)\n",
        "        self.channel1_dropout = nn.Dropout(dropout_val)\n",
        "\n",
        "        self.channel2_conv = nn.Conv1d(in_channels=input_size, out_channels=32, kernel_size=400)\n",
        "        self.channel2_dropout = nn.Dropout(dropout_val)\n",
        "        self.channel2_bilstm = nn.LSTM(input_size=32, hidden_size=lstm_hidden_size, num_layers=1, batch_first=True, bidirectional=True)\n",
        "\n",
        "    def forward(self, bert_embeddings):\n",
        "\n",
        "        bert_embeddings = bert_embeddings.permute(0, 2, 1)                              # shape (BS, 768, 128)\n",
        "        channel1_bilstm_output, _ = self.channel1_bilstm(bert_embeddings)               # shape (BS, 768, 32)\n",
        "        channel1_bilstm_output = channel1_bilstm_output.permute(0, 2, 1)                # shape (BS, 32, 768)\n",
        "        channel1_conv_output = self.channel1_conv(channel1_bilstm_output)               # shape (BS, 32, 369)\n",
        "        channel1_output = self.channel1_dropout(channel1_conv_output)                   # shape (BS, 32, 369)\n",
        "\n",
        "        bert_embeddings = bert_embeddings.permute(0, 2, 1)                              # shape (BS, 128, 768)\n",
        "        channel2_conv_output = self.channel2_conv(bert_embeddings)                      # shape (BS, 32, 369)\n",
        "        channel2_dropout_output = self.channel2_dropout(channel2_conv_output)           # shape (BS, 32, 369)\n",
        "        channel2_dropout_output = channel2_dropout_output.permute(0, 2, 1)              # shape (BS, 369, 32)\n",
        "        channel2_output, _ = self.channel2_bilstm(channel2_dropout_output)              # shape (BS, 369, 32)\n",
        "        channel2_output = channel2_output.permute(0, 2, 1)                              # shape (BS, 32, 369)\n",
        "\n",
        "        dual_channel_output = torch.cat((channel1_output, channel2_output), dim=2)      # shape (BS, 32, 768)\n",
        "        return dual_channel_output\n"
      ]
    },
    {
      "cell_type": "code",
      "execution_count": 4,
      "metadata": {
        "id": "Ixcks8aXaiTZ"
      },
      "outputs": [],
      "source": [
        "class ClassificationModule(nn.Module):\n",
        "    def __init__(self, number_of_classes, dropout_val):\n",
        "        super(ClassificationModule, self).__init__()\n",
        "        self.maxpool = nn.MaxPool1d(kernel_size=2)\n",
        "        self.dropout = nn.Dropout(dropout_val)\n",
        "        self.flatten = nn.Flatten()\n",
        "        self.dense1 = nn.Linear(in_features=11808, out_features=1000)\n",
        "        self.dense2 = nn.Linear(in_features=1000, out_features=600)\n",
        "        self.classification_output = nn.Linear(in_features=600, out_features=number_of_classes)\n",
        "\n",
        "    def forward(self, dual_channel_output):\n",
        "        maxpool_output = self.maxpool(dual_channel_output)                                         # shape (BS, 32, 369)\n",
        "        dropout_output = self.dropout(maxpool_output)                                              # shape (BS, 32, 369)\n",
        "        flatten_output = self.flatten(dropout_output)                                              # shape (BS, 11808)\n",
        "        dense1_output = self.dense1(flatten_output)                                                # shape (BS, 1000)\n",
        "        dense2_output = self.dense2(dense1_output)                                                 # shape (BS, 600)\n",
        "        classification_output = F.softmax(self.classification_output(dense2_output), dim=1)        # shape (BS, 4)\n",
        "\n",
        "        return classification_output"
      ]
    },
    {
      "cell_type": "code",
      "execution_count": 5,
      "metadata": {
        "id": "C_CmVjlM_3XD"
      },
      "outputs": [],
      "source": [
        "class TER(nn.Module):\n",
        "    def __init__(self, number_of_classes, input_size, lstm_hidden_size=16, dropout_val=0.1):\n",
        "        super(TER, self).__init__()\n",
        "        self.bert = BertModel.from_pretrained(BERT_CONFIG)\n",
        "        self.dual_channel = DualChannelModule(input_size=input_size, lstm_hidden_size=lstm_hidden_size, dropout_val=dropout_val)\n",
        "        self.classifier = ClassificationModule(number_of_classes, dropout_val)\n",
        "\n",
        "    def forward(self, input_seq, attention_mask):\n",
        "        bert_pooled_output = self.bert(input_seq, attention_mask=attention_mask)[0]     # A tensor of shape (batch_size, num_tokens=128, embedding_dim=768) containing BERT embeddings\n",
        "        dual_channel_output = self.dual_channel(bert_pooled_output)                     # shape (BS, 32, 738)\n",
        "        classification_output = self.classifier(dual_channel_output)                    # shape (BS, 4)\n",
        "        return classification_output"
      ]
    },
    {
      "cell_type": "code",
      "execution_count": 6,
      "metadata": {
        "id": "V3UjUU86aiTa"
      },
      "outputs": [],
      "source": [
        "def tokenize_sentences(sentences, tokenizer, max_length):\n",
        "    tokenized_sequences = tokenizer(sentences, padding='max_length', truncation=True, max_length=max_length, return_tensors='pt')\n",
        "    return tokenized_sequences['input_ids'], tokenized_sequences['attention_mask']"
      ]
    },
    {
      "cell_type": "code",
      "execution_count": 7,
      "metadata": {
        "colab": {
          "base_uri": "https://localhost:8080/",
          "height": 423
        },
        "id": "5szL-qGsaiTa",
        "outputId": "539b9345-b576-456e-8598-e6ed6f6c0a36"
      },
      "outputs": [
        {
          "data": {
            "application/vnd.google.colaboratory.intrinsic+json": {
              "summary": "{\n  \"name\": \"ISEAR_dataset\",\n  \"rows\": 4381,\n  \"fields\": [\n    {\n      \"column\": \"ISEAR_labels\",\n      \"properties\": {\n        \"dtype\": \"category\",\n        \"num_unique_values\": 4,\n        \"samples\": [\n          \"fear\",\n          \"sadness\",\n          \"joy\"\n        ],\n        \"semantic_type\": \"\",\n        \"description\": \"\"\n      }\n    },\n    {\n      \"column\": \"ISEAR_sentences\",\n      \"properties\": {\n        \"dtype\": \"string\",\n        \"num_unique_values\": 4307,\n        \"samples\": [\n          \"I worked at a lawyer's office during Summer and I got a very \\u00e1\\ngood reference from him.\",\n          \"Saw the village I come from still pay money to buy wife.\",\n          \"Upon reading a story on a serial killer by the name of Henry Lee \\u00e1\\nLucas who has been given the distinction of killing more people \\u00e1\\nthat any other man. I began to wonder if I should take more care \\u00e1\\nfor my safety.\"\n        ],\n        \"semantic_type\": \"\",\n        \"description\": \"\"\n      }\n    }\n  ]\n}",
              "type": "dataframe",
              "variable_name": "ISEAR_dataset"
            },
            "text/html": [
              "\n",
              "  <div id=\"df-a9a3c0ec-38cb-4de6-88bb-62e4b48b75ab\" class=\"colab-df-container\">\n",
              "    <div>\n",
              "<style scoped>\n",
              "    .dataframe tbody tr th:only-of-type {\n",
              "        vertical-align: middle;\n",
              "    }\n",
              "\n",
              "    .dataframe tbody tr th {\n",
              "        vertical-align: top;\n",
              "    }\n",
              "\n",
              "    .dataframe thead th {\n",
              "        text-align: right;\n",
              "    }\n",
              "</style>\n",
              "<table border=\"1\" class=\"dataframe\">\n",
              "  <thead>\n",
              "    <tr style=\"text-align: right;\">\n",
              "      <th></th>\n",
              "      <th>ISEAR_labels</th>\n",
              "      <th>ISEAR_sentences</th>\n",
              "    </tr>\n",
              "  </thead>\n",
              "  <tbody>\n",
              "    <tr>\n",
              "      <th>0</th>\n",
              "      <td>joy</td>\n",
              "      <td>During the period of falling in love, each tim...</td>\n",
              "    </tr>\n",
              "    <tr>\n",
              "      <th>1</th>\n",
              "      <td>fear</td>\n",
              "      <td>When I was involved in a traffic accident.</td>\n",
              "    </tr>\n",
              "    <tr>\n",
              "      <th>2</th>\n",
              "      <td>anger</td>\n",
              "      <td>When I was driving home after  several days of...</td>\n",
              "    </tr>\n",
              "    <tr>\n",
              "      <th>3</th>\n",
              "      <td>sadness</td>\n",
              "      <td>When I lost the person who meant the most to me.</td>\n",
              "    </tr>\n",
              "    <tr>\n",
              "      <th>4</th>\n",
              "      <td>joy</td>\n",
              "      <td>When I got a letter offering me the Summer job...</td>\n",
              "    </tr>\n",
              "    <tr>\n",
              "      <th>...</th>\n",
              "      <td>...</td>\n",
              "      <td>...</td>\n",
              "    </tr>\n",
              "    <tr>\n",
              "      <th>4376</th>\n",
              "      <td>sadness</td>\n",
              "      <td>This issue worried me rather than saddening me...</td>\n",
              "    </tr>\n",
              "    <tr>\n",
              "      <th>4377</th>\n",
              "      <td>joy</td>\n",
              "      <td>I received a letter from a distant friend.</td>\n",
              "    </tr>\n",
              "    <tr>\n",
              "      <th>4378</th>\n",
              "      <td>fear</td>\n",
              "      <td>My parents were out and I was the eldest at ho...</td>\n",
              "    </tr>\n",
              "    <tr>\n",
              "      <th>4379</th>\n",
              "      <td>anger</td>\n",
              "      <td>Two years back someone invited me to be the tu...</td>\n",
              "    </tr>\n",
              "    <tr>\n",
              "      <th>4380</th>\n",
              "      <td>sadness</td>\n",
              "      <td>I had taken the responsibility to do something...</td>\n",
              "    </tr>\n",
              "  </tbody>\n",
              "</table>\n",
              "<p>4381 rows × 2 columns</p>\n",
              "</div>\n",
              "    <div class=\"colab-df-buttons\">\n",
              "\n",
              "  <div class=\"colab-df-container\">\n",
              "    <button class=\"colab-df-convert\" onclick=\"convertToInteractive('df-a9a3c0ec-38cb-4de6-88bb-62e4b48b75ab')\"\n",
              "            title=\"Convert this dataframe to an interactive table.\"\n",
              "            style=\"display:none;\">\n",
              "\n",
              "  <svg xmlns=\"http://www.w3.org/2000/svg\" height=\"24px\" viewBox=\"0 -960 960 960\">\n",
              "    <path d=\"M120-120v-720h720v720H120Zm60-500h600v-160H180v160Zm220 220h160v-160H400v160Zm0 220h160v-160H400v160ZM180-400h160v-160H180v160Zm440 0h160v-160H620v160ZM180-180h160v-160H180v160Zm440 0h160v-160H620v160Z\"/>\n",
              "  </svg>\n",
              "    </button>\n",
              "\n",
              "  <style>\n",
              "    .colab-df-container {\n",
              "      display:flex;\n",
              "      gap: 12px;\n",
              "    }\n",
              "\n",
              "    .colab-df-convert {\n",
              "      background-color: #E8F0FE;\n",
              "      border: none;\n",
              "      border-radius: 50%;\n",
              "      cursor: pointer;\n",
              "      display: none;\n",
              "      fill: #1967D2;\n",
              "      height: 32px;\n",
              "      padding: 0 0 0 0;\n",
              "      width: 32px;\n",
              "    }\n",
              "\n",
              "    .colab-df-convert:hover {\n",
              "      background-color: #E2EBFA;\n",
              "      box-shadow: 0px 1px 2px rgba(60, 64, 67, 0.3), 0px 1px 3px 1px rgba(60, 64, 67, 0.15);\n",
              "      fill: #174EA6;\n",
              "    }\n",
              "\n",
              "    .colab-df-buttons div {\n",
              "      margin-bottom: 4px;\n",
              "    }\n",
              "\n",
              "    [theme=dark] .colab-df-convert {\n",
              "      background-color: #3B4455;\n",
              "      fill: #D2E3FC;\n",
              "    }\n",
              "\n",
              "    [theme=dark] .colab-df-convert:hover {\n",
              "      background-color: #434B5C;\n",
              "      box-shadow: 0px 1px 3px 1px rgba(0, 0, 0, 0.15);\n",
              "      filter: drop-shadow(0px 1px 2px rgba(0, 0, 0, 0.3));\n",
              "      fill: #FFFFFF;\n",
              "    }\n",
              "  </style>\n",
              "\n",
              "    <script>\n",
              "      const buttonEl =\n",
              "        document.querySelector('#df-a9a3c0ec-38cb-4de6-88bb-62e4b48b75ab button.colab-df-convert');\n",
              "      buttonEl.style.display =\n",
              "        google.colab.kernel.accessAllowed ? 'block' : 'none';\n",
              "\n",
              "      async function convertToInteractive(key) {\n",
              "        const element = document.querySelector('#df-a9a3c0ec-38cb-4de6-88bb-62e4b48b75ab');\n",
              "        const dataTable =\n",
              "          await google.colab.kernel.invokeFunction('convertToInteractive',\n",
              "                                                    [key], {});\n",
              "        if (!dataTable) return;\n",
              "\n",
              "        const docLinkHtml = 'Like what you see? Visit the ' +\n",
              "          '<a target=\"_blank\" href=https://colab.research.google.com/notebooks/data_table.ipynb>data table notebook</a>'\n",
              "          + ' to learn more about interactive tables.';\n",
              "        element.innerHTML = '';\n",
              "        dataTable['output_type'] = 'display_data';\n",
              "        await google.colab.output.renderOutput(dataTable, element);\n",
              "        const docLink = document.createElement('div');\n",
              "        docLink.innerHTML = docLinkHtml;\n",
              "        element.appendChild(docLink);\n",
              "      }\n",
              "    </script>\n",
              "  </div>\n",
              "\n",
              "\n",
              "<div id=\"df-7bb4bbf8-8ecb-44f4-a497-9c20021deb0d\">\n",
              "  <button class=\"colab-df-quickchart\" onclick=\"quickchart('df-7bb4bbf8-8ecb-44f4-a497-9c20021deb0d')\"\n",
              "            title=\"Suggest charts\"\n",
              "            style=\"display:none;\">\n",
              "\n",
              "<svg xmlns=\"http://www.w3.org/2000/svg\" height=\"24px\"viewBox=\"0 0 24 24\"\n",
              "     width=\"24px\">\n",
              "    <g>\n",
              "        <path d=\"M19 3H5c-1.1 0-2 .9-2 2v14c0 1.1.9 2 2 2h14c1.1 0 2-.9 2-2V5c0-1.1-.9-2-2-2zM9 17H7v-7h2v7zm4 0h-2V7h2v10zm4 0h-2v-4h2v4z\"/>\n",
              "    </g>\n",
              "</svg>\n",
              "  </button>\n",
              "\n",
              "<style>\n",
              "  .colab-df-quickchart {\n",
              "      --bg-color: #E8F0FE;\n",
              "      --fill-color: #1967D2;\n",
              "      --hover-bg-color: #E2EBFA;\n",
              "      --hover-fill-color: #174EA6;\n",
              "      --disabled-fill-color: #AAA;\n",
              "      --disabled-bg-color: #DDD;\n",
              "  }\n",
              "\n",
              "  [theme=dark] .colab-df-quickchart {\n",
              "      --bg-color: #3B4455;\n",
              "      --fill-color: #D2E3FC;\n",
              "      --hover-bg-color: #434B5C;\n",
              "      --hover-fill-color: #FFFFFF;\n",
              "      --disabled-bg-color: #3B4455;\n",
              "      --disabled-fill-color: #666;\n",
              "  }\n",
              "\n",
              "  .colab-df-quickchart {\n",
              "    background-color: var(--bg-color);\n",
              "    border: none;\n",
              "    border-radius: 50%;\n",
              "    cursor: pointer;\n",
              "    display: none;\n",
              "    fill: var(--fill-color);\n",
              "    height: 32px;\n",
              "    padding: 0;\n",
              "    width: 32px;\n",
              "  }\n",
              "\n",
              "  .colab-df-quickchart:hover {\n",
              "    background-color: var(--hover-bg-color);\n",
              "    box-shadow: 0 1px 2px rgba(60, 64, 67, 0.3), 0 1px 3px 1px rgba(60, 64, 67, 0.15);\n",
              "    fill: var(--button-hover-fill-color);\n",
              "  }\n",
              "\n",
              "  .colab-df-quickchart-complete:disabled,\n",
              "  .colab-df-quickchart-complete:disabled:hover {\n",
              "    background-color: var(--disabled-bg-color);\n",
              "    fill: var(--disabled-fill-color);\n",
              "    box-shadow: none;\n",
              "  }\n",
              "\n",
              "  .colab-df-spinner {\n",
              "    border: 2px solid var(--fill-color);\n",
              "    border-color: transparent;\n",
              "    border-bottom-color: var(--fill-color);\n",
              "    animation:\n",
              "      spin 1s steps(1) infinite;\n",
              "  }\n",
              "\n",
              "  @keyframes spin {\n",
              "    0% {\n",
              "      border-color: transparent;\n",
              "      border-bottom-color: var(--fill-color);\n",
              "      border-left-color: var(--fill-color);\n",
              "    }\n",
              "    20% {\n",
              "      border-color: transparent;\n",
              "      border-left-color: var(--fill-color);\n",
              "      border-top-color: var(--fill-color);\n",
              "    }\n",
              "    30% {\n",
              "      border-color: transparent;\n",
              "      border-left-color: var(--fill-color);\n",
              "      border-top-color: var(--fill-color);\n",
              "      border-right-color: var(--fill-color);\n",
              "    }\n",
              "    40% {\n",
              "      border-color: transparent;\n",
              "      border-right-color: var(--fill-color);\n",
              "      border-top-color: var(--fill-color);\n",
              "    }\n",
              "    60% {\n",
              "      border-color: transparent;\n",
              "      border-right-color: var(--fill-color);\n",
              "    }\n",
              "    80% {\n",
              "      border-color: transparent;\n",
              "      border-right-color: var(--fill-color);\n",
              "      border-bottom-color: var(--fill-color);\n",
              "    }\n",
              "    90% {\n",
              "      border-color: transparent;\n",
              "      border-bottom-color: var(--fill-color);\n",
              "    }\n",
              "  }\n",
              "</style>\n",
              "\n",
              "  <script>\n",
              "    async function quickchart(key) {\n",
              "      const quickchartButtonEl =\n",
              "        document.querySelector('#' + key + ' button');\n",
              "      quickchartButtonEl.disabled = true;  // To prevent multiple clicks.\n",
              "      quickchartButtonEl.classList.add('colab-df-spinner');\n",
              "      try {\n",
              "        const charts = await google.colab.kernel.invokeFunction(\n",
              "            'suggestCharts', [key], {});\n",
              "      } catch (error) {\n",
              "        console.error('Error during call to suggestCharts:', error);\n",
              "      }\n",
              "      quickchartButtonEl.classList.remove('colab-df-spinner');\n",
              "      quickchartButtonEl.classList.add('colab-df-quickchart-complete');\n",
              "    }\n",
              "    (() => {\n",
              "      let quickchartButtonEl =\n",
              "        document.querySelector('#df-7bb4bbf8-8ecb-44f4-a497-9c20021deb0d button');\n",
              "      quickchartButtonEl.style.display =\n",
              "        google.colab.kernel.accessAllowed ? 'block' : 'none';\n",
              "    })();\n",
              "  </script>\n",
              "</div>\n",
              "\n",
              "  <div id=\"id_8ce8e312-7ff1-487e-a5a2-23d84e59d9be\">\n",
              "    <style>\n",
              "      .colab-df-generate {\n",
              "        background-color: #E8F0FE;\n",
              "        border: none;\n",
              "        border-radius: 50%;\n",
              "        cursor: pointer;\n",
              "        display: none;\n",
              "        fill: #1967D2;\n",
              "        height: 32px;\n",
              "        padding: 0 0 0 0;\n",
              "        width: 32px;\n",
              "      }\n",
              "\n",
              "      .colab-df-generate:hover {\n",
              "        background-color: #E2EBFA;\n",
              "        box-shadow: 0px 1px 2px rgba(60, 64, 67, 0.3), 0px 1px 3px 1px rgba(60, 64, 67, 0.15);\n",
              "        fill: #174EA6;\n",
              "      }\n",
              "\n",
              "      [theme=dark] .colab-df-generate {\n",
              "        background-color: #3B4455;\n",
              "        fill: #D2E3FC;\n",
              "      }\n",
              "\n",
              "      [theme=dark] .colab-df-generate:hover {\n",
              "        background-color: #434B5C;\n",
              "        box-shadow: 0px 1px 3px 1px rgba(0, 0, 0, 0.15);\n",
              "        filter: drop-shadow(0px 1px 2px rgba(0, 0, 0, 0.3));\n",
              "        fill: #FFFFFF;\n",
              "      }\n",
              "    </style>\n",
              "    <button class=\"colab-df-generate\" onclick=\"generateWithVariable('ISEAR_dataset')\"\n",
              "            title=\"Generate code using this dataframe.\"\n",
              "            style=\"display:none;\">\n",
              "\n",
              "  <svg xmlns=\"http://www.w3.org/2000/svg\" height=\"24px\"viewBox=\"0 0 24 24\"\n",
              "       width=\"24px\">\n",
              "    <path d=\"M7,19H8.4L18.45,9,17,7.55,7,17.6ZM5,21V16.75L18.45,3.32a2,2,0,0,1,2.83,0l1.4,1.43a1.91,1.91,0,0,1,.58,1.4,1.91,1.91,0,0,1-.58,1.4L9.25,21ZM18.45,9,17,7.55Zm-12,3A5.31,5.31,0,0,0,4.9,8.1,5.31,5.31,0,0,0,1,6.5,5.31,5.31,0,0,0,4.9,4.9,5.31,5.31,0,0,0,6.5,1,5.31,5.31,0,0,0,8.1,4.9,5.31,5.31,0,0,0,12,6.5,5.46,5.46,0,0,0,6.5,12Z\"/>\n",
              "  </svg>\n",
              "    </button>\n",
              "    <script>\n",
              "      (() => {\n",
              "      const buttonEl =\n",
              "        document.querySelector('#id_8ce8e312-7ff1-487e-a5a2-23d84e59d9be button.colab-df-generate');\n",
              "      buttonEl.style.display =\n",
              "        google.colab.kernel.accessAllowed ? 'block' : 'none';\n",
              "\n",
              "      buttonEl.onclick = () => {\n",
              "        google.colab.notebook.generateWithVariable('ISEAR_dataset');\n",
              "      }\n",
              "      })();\n",
              "    </script>\n",
              "  </div>\n",
              "\n",
              "    </div>\n",
              "  </div>\n"
            ],
            "text/plain": [
              "     ISEAR_labels                                    ISEAR_sentences\n",
              "0             joy  During the period of falling in love, each tim...\n",
              "1            fear         When I was involved in a traffic accident.\n",
              "2           anger  When I was driving home after  several days of...\n",
              "3         sadness  When I lost the person who meant the most to me. \n",
              "4             joy  When I got a letter offering me the Summer job...\n",
              "...           ...                                                ...\n",
              "4376      sadness  This issue worried me rather than saddening me...\n",
              "4377          joy         I received a letter from a distant friend.\n",
              "4378         fear  My parents were out and I was the eldest at ho...\n",
              "4379        anger  Two years back someone invited me to be the tu...\n",
              "4380      sadness  I had taken the responsibility to do something...\n",
              "\n",
              "[4381 rows x 2 columns]"
            ]
          },
          "execution_count": 7,
          "metadata": {},
          "output_type": "execute_result"
        }
      ],
      "source": [
        "ISEAR_dataset = pd.read_csv(ISEAR_CSV, index_col=0)\n",
        "ISEAR_dataset"
      ]
    },
    {
      "cell_type": "code",
      "execution_count": 8,
      "metadata": {
        "colab": {
          "base_uri": "https://localhost:8080/",
          "height": 241
        },
        "id": "U67ryb3ia5j1",
        "outputId": "0c322001-dde7-453c-aa6a-496d768411b6"
      },
      "outputs": [
        {
          "data": {
            "text/html": [
              "<div>\n",
              "<style scoped>\n",
              "    .dataframe tbody tr th:only-of-type {\n",
              "        vertical-align: middle;\n",
              "    }\n",
              "\n",
              "    .dataframe tbody tr th {\n",
              "        vertical-align: top;\n",
              "    }\n",
              "\n",
              "    .dataframe thead th {\n",
              "        text-align: right;\n",
              "    }\n",
              "</style>\n",
              "<table border=\"1\" class=\"dataframe\">\n",
              "  <thead>\n",
              "    <tr style=\"text-align: right;\">\n",
              "      <th></th>\n",
              "      <th>count</th>\n",
              "    </tr>\n",
              "    <tr>\n",
              "      <th>ISEAR_labels</th>\n",
              "      <th></th>\n",
              "    </tr>\n",
              "  </thead>\n",
              "  <tbody>\n",
              "    <tr>\n",
              "      <th>anger</th>\n",
              "      <td>1096</td>\n",
              "    </tr>\n",
              "    <tr>\n",
              "      <th>sadness</th>\n",
              "      <td>1096</td>\n",
              "    </tr>\n",
              "    <tr>\n",
              "      <th>fear</th>\n",
              "      <td>1095</td>\n",
              "    </tr>\n",
              "    <tr>\n",
              "      <th>joy</th>\n",
              "      <td>1094</td>\n",
              "    </tr>\n",
              "  </tbody>\n",
              "</table>\n",
              "</div><br><label><b>dtype:</b> int64</label>"
            ],
            "text/plain": [
              "ISEAR_labels\n",
              "anger      1096\n",
              "sadness    1096\n",
              "fear       1095\n",
              "joy        1094\n",
              "Name: count, dtype: int64"
            ]
          },
          "execution_count": 8,
          "metadata": {},
          "output_type": "execute_result"
        }
      ],
      "source": [
        "ISEAR_dataset['ISEAR_labels'].value_counts()"
      ]
    },
    {
      "cell_type": "code",
      "execution_count": 9,
      "metadata": {
        "id": "k_W-UzZUaiTb"
      },
      "outputs": [],
      "source": [
        "ISEAR_train_data, ISEAR_val_data = train_test_split(ISEAR_dataset, test_size=0.1, random_state=42)\n",
        "ISEAR_X_train = list(ISEAR_train_data['ISEAR_sentences'])\n",
        "ISEAR_X_val = list(ISEAR_val_data['ISEAR_sentences'])\n",
        "ISEAR_Y_train = list(ISEAR_train_data['ISEAR_labels'])\n",
        "ISEAR_Y_val = list(ISEAR_val_data['ISEAR_labels'])"
      ]
    },
    {
      "cell_type": "code",
      "execution_count": 10,
      "metadata": {
        "colab": {
          "base_uri": "https://localhost:8080/"
        },
        "id": "Az0Wc5ONaiTb",
        "outputId": "a8983a07-e728-4541-b494-d15020f17b1c"
      },
      "outputs": [
        {
          "name": "stderr",
          "output_type": "stream",
          "text": [
            "/usr/local/lib/python3.10/dist-packages/huggingface_hub/utils/_token.py:89: UserWarning: \n",
            "The secret `HF_TOKEN` does not exist in your Colab secrets.\n",
            "To authenticate with the Hugging Face Hub, create a token in your settings tab (https://huggingface.co/settings/tokens), set it as secret in your Google Colab and restart your session.\n",
            "You will be able to reuse this secret in all of your notebooks.\n",
            "Please note that authentication is recommended but still optional to access public models or datasets.\n",
            "  warnings.warn(\n"
          ]
        }
      ],
      "source": [
        "# Initialize XLM-RoBERTa tokenizer\n",
        "tokenizer = BertTokenizer.from_pretrained(BERT_CONFIG)"
      ]
    },
    {
      "cell_type": "code",
      "execution_count": 11,
      "metadata": {
        "id": "1udDeVdqaiTc"
      },
      "outputs": [],
      "source": [
        "train_input_ids, train_attention_mask = tokenize_sentences(ISEAR_X_train, tokenizer, max_length=MAX_LEN)\n",
        "val_input_ids, val_attention_mask = tokenize_sentences(ISEAR_X_val, tokenizer, max_length=MAX_LEN)"
      ]
    },
    {
      "cell_type": "code",
      "execution_count": 12,
      "metadata": {
        "id": "UuKClFOHaiTc"
      },
      "outputs": [],
      "source": [
        "label_encoder = preprocessing.LabelEncoder()\n",
        "ISEAR_Y_train_encoded = label_encoder.fit_transform(ISEAR_Y_train)\n",
        "ISEAR_Y_val_encoded = label_encoder.fit_transform(ISEAR_Y_val)"
      ]
    },
    {
      "cell_type": "code",
      "execution_count": 13,
      "metadata": {
        "id": "QRljzOq6aiTc"
      },
      "outputs": [],
      "source": [
        "# Convert labels to PyTorch tensors\n",
        "train_labels = torch.tensor(ISEAR_Y_train_encoded, dtype=torch.int64)\n",
        "val_labels = torch.tensor(ISEAR_Y_val_encoded, dtype=torch.int64)"
      ]
    },
    {
      "cell_type": "code",
      "execution_count": 14,
      "metadata": {
        "id": "70HNICfeaiTd"
      },
      "outputs": [],
      "source": [
        "# Creating Dataloaders\n",
        "train_dataset = TensorDataset(train_input_ids, train_attention_mask, train_labels)\n",
        "train_loader = DataLoader(train_dataset, batch_size=BATCH_SIZE, shuffle=True)\n",
        "val_dataset = TensorDataset(val_input_ids, val_attention_mask, val_labels)\n",
        "val_loader = DataLoader(val_dataset, batch_size=BATCH_SIZE)"
      ]
    },
    {
      "cell_type": "code",
      "execution_count": 15,
      "metadata": {
        "id": "B5B5Vr3TaiTd"
      },
      "outputs": [],
      "source": [
        "# Initializing the model\n",
        "model = TER(number_of_classes=NUM_CLASSES, input_size=MAX_LEN)"
      ]
    },
    {
      "cell_type": "code",
      "execution_count": 16,
      "metadata": {
        "id": "uVxN_cB2aiTd"
      },
      "outputs": [],
      "source": [
        "# Define optimizer and loss function\n",
        "optimizer = AdamW(model.parameters(), lr=LEARNING_RATE)\n",
        "criterion = nn.CrossEntropyLoss()"
      ]
    },
    {
      "cell_type": "code",
      "execution_count": 17,
      "metadata": {
        "colab": {
          "base_uri": "https://localhost:8080/"
        },
        "id": "ogq_PizMaiTd",
        "outputId": "7aaab807-22de-40fa-ba34-cc7f30892156"
      },
      "outputs": [
        {
          "data": {
            "text/plain": [
              "TER(\n",
              "  (bert): BertModel(\n",
              "    (embeddings): BertEmbeddings(\n",
              "      (word_embeddings): Embedding(30522, 768, padding_idx=0)\n",
              "      (position_embeddings): Embedding(512, 768)\n",
              "      (token_type_embeddings): Embedding(2, 768)\n",
              "      (LayerNorm): LayerNorm((768,), eps=1e-12, elementwise_affine=True)\n",
              "      (dropout): Dropout(p=0.1, inplace=False)\n",
              "    )\n",
              "    (encoder): BertEncoder(\n",
              "      (layer): ModuleList(\n",
              "        (0-11): 12 x BertLayer(\n",
              "          (attention): BertAttention(\n",
              "            (self): BertSdpaSelfAttention(\n",
              "              (query): Linear(in_features=768, out_features=768, bias=True)\n",
              "              (key): Linear(in_features=768, out_features=768, bias=True)\n",
              "              (value): Linear(in_features=768, out_features=768, bias=True)\n",
              "              (dropout): Dropout(p=0.1, inplace=False)\n",
              "            )\n",
              "            (output): BertSelfOutput(\n",
              "              (dense): Linear(in_features=768, out_features=768, bias=True)\n",
              "              (LayerNorm): LayerNorm((768,), eps=1e-12, elementwise_affine=True)\n",
              "              (dropout): Dropout(p=0.1, inplace=False)\n",
              "            )\n",
              "          )\n",
              "          (intermediate): BertIntermediate(\n",
              "            (dense): Linear(in_features=768, out_features=3072, bias=True)\n",
              "            (intermediate_act_fn): GELUActivation()\n",
              "          )\n",
              "          (output): BertOutput(\n",
              "            (dense): Linear(in_features=3072, out_features=768, bias=True)\n",
              "            (LayerNorm): LayerNorm((768,), eps=1e-12, elementwise_affine=True)\n",
              "            (dropout): Dropout(p=0.1, inplace=False)\n",
              "          )\n",
              "        )\n",
              "      )\n",
              "    )\n",
              "    (pooler): BertPooler(\n",
              "      (dense): Linear(in_features=768, out_features=768, bias=True)\n",
              "      (activation): Tanh()\n",
              "    )\n",
              "  )\n",
              "  (dual_channel): DualChannelModule(\n",
              "    (channel1_bilstm): LSTM(256, 16, batch_first=True, bidirectional=True)\n",
              "    (channel1_conv): Conv1d(32, 32, kernel_size=(400,), stride=(1,))\n",
              "    (channel1_dropout): Dropout(p=0.1, inplace=False)\n",
              "    (channel2_conv): Conv1d(256, 32, kernel_size=(400,), stride=(1,))\n",
              "    (channel2_dropout): Dropout(p=0.1, inplace=False)\n",
              "    (channel2_bilstm): LSTM(32, 16, batch_first=True, bidirectional=True)\n",
              "  )\n",
              "  (classifier): ClassificationModule(\n",
              "    (maxpool): MaxPool1d(kernel_size=2, stride=2, padding=0, dilation=1, ceil_mode=False)\n",
              "    (dropout): Dropout(p=0.1, inplace=False)\n",
              "    (flatten): Flatten(start_dim=1, end_dim=-1)\n",
              "    (dense1): Linear(in_features=11808, out_features=1000, bias=True)\n",
              "    (dense2): Linear(in_features=1000, out_features=600, bias=True)\n",
              "    (classification_output): Linear(in_features=600, out_features=4, bias=True)\n",
              "  )\n",
              ")"
            ]
          },
          "execution_count": 17,
          "metadata": {},
          "output_type": "execute_result"
        }
      ],
      "source": [
        "device = torch.device(\"cuda\" if torch.cuda.is_available() else \"cpu\")\n",
        "model.to(device)"
      ]
    },
    {
      "cell_type": "code",
      "execution_count": 18,
      "metadata": {
        "colab": {
          "base_uri": "https://localhost:8080/"
        },
        "id": "UEUU9FESaiTe",
        "outputId": "3250f3b6-d6c9-43e8-d954-458194fa2310"
      },
      "outputs": [
        {
          "name": "stdout",
          "output_type": "stream",
          "text": [
            "Epoch [1/10] Batch [100/247] Loss: 1.1262\n",
            "Epoch [1/10] Batch [200/247] Loss: 0.9684\n",
            "Epoch [2/10] Batch [100/247] Loss: 0.8995\n",
            "Epoch [2/10] Batch [200/247] Loss: 0.8894\n",
            "Epoch [3/10] Batch [100/247] Loss: 0.8718\n",
            "Epoch [3/10] Batch [200/247] Loss: 0.8626\n",
            "Epoch [4/10] Batch [100/247] Loss: 0.8420\n",
            "Epoch [4/10] Batch [200/247] Loss: 0.8663\n",
            "Epoch [5/10] Batch [100/247] Loss: 0.8379\n",
            "Epoch [5/10] Batch [200/247] Loss: 0.8534\n",
            "Epoch [6/10] Batch [100/247] Loss: 0.8454\n",
            "Epoch [6/10] Batch [200/247] Loss: 0.8417\n",
            "Epoch [7/10] Batch [100/247] Loss: 0.8288\n",
            "Epoch [7/10] Batch [200/247] Loss: 0.8356\n",
            "Epoch [8/10] Batch [100/247] Loss: 0.8388\n",
            "Epoch [8/10] Batch [200/247] Loss: 0.8317\n",
            "Epoch [9/10] Batch [100/247] Loss: 0.8255\n",
            "Epoch [9/10] Batch [200/247] Loss: 0.8514\n",
            "Epoch [10/10] Batch [100/247] Loss: 0.8180\n",
            "Epoch [10/10] Batch [200/247] Loss: 0.8397\n"
          ]
        }
      ],
      "source": [
        "# Training the model\n",
        "for epoch in range(EPOCHS):\n",
        "    model.train()\n",
        "    running_loss = 0.0\n",
        "    for batch_idx, (input_seq, attention_mask, labels) in enumerate(train_loader):\n",
        "        input_seq = input_seq.to(device)\n",
        "        attention_mask = attention_mask.to(device)\n",
        "        labels = labels.to(device)\n",
        "\n",
        "        optimizer.zero_grad()\n",
        "\n",
        "        output = model(input_seq, attention_mask)\n",
        "\n",
        "        loss = criterion(output, labels)\n",
        "        loss.backward()\n",
        "        optimizer.step()\n",
        "\n",
        "        running_loss += loss.item()\n",
        "        if batch_idx % 100 == 99:\n",
        "            print(f\"Epoch [{epoch + 1}/{EPOCHS}] \"\n",
        "                  f\"Batch [{batch_idx + 1}/{len(train_loader)}] \"\n",
        "                  f\"Loss: {running_loss / 100:.4f}\")\n",
        "            running_loss = 0.0"
      ]
    },
    {
      "cell_type": "code",
      "execution_count": 20,
      "metadata": {
        "colab": {
          "base_uri": "https://localhost:8080/"
        },
        "id": "O4EmtTg8aiTe",
        "outputId": "53c872c2-d132-44c1-9012-26ac26a7a7f1"
      },
      "outputs": [
        {
          "name": "stdout",
          "output_type": "stream",
          "text": [
            "Validation Accuracy: 84.28%\n",
            "F1-score: 0.8442\n",
            "Precision: 0.8594\n",
            "Recall: 0.8428\n"
          ]
        }
      ],
      "source": [
        "# Evaluating the model\n",
        "model.eval()\n",
        "total_correct = 0\n",
        "total_samples = 0\n",
        "\n",
        "predicted_labels = []\n",
        "true_labels = []\n",
        "\n",
        "with torch.no_grad():\n",
        "    for input_seq, attention_mask, labels in val_loader:\n",
        "        input_seq = input_seq.to(device)\n",
        "        attention_mask = attention_mask.to(device)\n",
        "        labels = labels.to(device)\n",
        "\n",
        "        output = model(input_seq, attention_mask)\n",
        "        _, predicted = torch.max(output, 1)\n",
        "\n",
        "        total_correct += (predicted == labels).sum().item()\n",
        "        total_samples += labels.size(0)\n",
        "\n",
        "        predicted_labels.extend(predicted.cpu().numpy())\n",
        "        true_labels.extend(labels.cpu().numpy())\n",
        "\n",
        "# Calculate accuracy\n",
        "accuracy = total_correct / total_samples\n",
        "print(f\"Validation Accuracy: {accuracy * 100:.2f}%\")\n",
        "\n",
        "# Calculate precision, recall, and F1-score\n",
        "precision = precision_score(true_labels, predicted_labels, average='weighted')\n",
        "recall = recall_score(true_labels, predicted_labels, average='weighted')\n",
        "f1 = f1_score(true_labels, predicted_labels, average='weighted')\n",
        "\n",
        "print(f\"F1-score: {f1:.4f}\")\n",
        "print(f\"Precision: {precision:.4f}\")\n",
        "print(f\"Recall: {recall:.4f}\")"
      ]
    },
    {
      "cell_type": "code",
      "execution_count": 21,
      "metadata": {
        "id": "NJXBMXPpa5j3"
      },
      "outputs": [],
      "source": [
        "# Confusion Matrix\n",
        "cm = confusion_matrix(true_labels, predicted_labels, normalize=\"true\")"
      ]
    },
    {
      "cell_type": "code",
      "execution_count": 22,
      "metadata": {
        "colab": {
          "base_uri": "https://localhost:8080/",
          "height": 485
        },
        "id": "RUwHbLLua5j3",
        "outputId": "215ab333-8661-49a9-d075-00f4785a2c24"
      },
      "outputs": [
        {
          "data": {
            "image/png": "[encoded data removed]",
            "text/plain": [
              "<Figure size 640x480 with 2 Axes>"
            ]
          },
          "metadata": {},
          "output_type": "display_data"
        }
      ],
      "source": [
        "sns.set(font_scale=1.2)\n",
        "sns.heatmap(cm, annot=True, fmt=\".2f\", cmap='Blues', cbar=True, xticklabels=CLASS_LABELS, yticklabels=CLASS_LABELS)\n",
        "\n",
        "plt.title('Normalized Confusion Matrix')\n",
        "plt.xlabel('Predicted Label')\n",
        "plt.ylabel('True Label')\n",
        "plt.show()"
      ]
    },
    {
      "cell_type": "code",
      "execution_count": 23,
      "metadata": {
        "colab": {
          "base_uri": "https://localhost:8080/"
        },
        "id": "82obEf2Ha5j3",
        "outputId": "01e8efca-b4bf-4554-d846-ff88f69efce3"
      },
      "outputs": [
        {
          "name": "stdout",
          "output_type": "stream",
          "text": [
            "Class           Precision       Recall          F1-Score       \n",
            "========================================================\n",
            "Anger           0.6905          0.9255          0.7909         \n",
            "Fear            0.8962          0.8190          0.8559         \n",
            "Joy             0.8922          0.9192          0.9055         \n",
            "Sadness         0.9238          0.7462          0.8255         \n",
            "\n",
            "Overall Accuracy: 0.8428\n"
          ]
        }
      ],
      "source": [
        "# Classification Report\n",
        "report = classification_report(true_labels, predicted_labels, target_names=CLASS_LABELS, output_dict=True)\n",
        "\n",
        "print(\"{:<15} {:<15} {:<15} {:<15}\".format(\"Class\", \"Precision\", \"Recall\", \"F1-Score\"))\n",
        "print(\"========================================================\")\n",
        "for class_label, metrics in report.items():\n",
        "    if class_label in CLASS_LABELS:\n",
        "        print(\"{:<15} {:<15.4f} {:<15.4f} {:<15.4f}\".format(class_label, metrics['precision'], metrics['recall'], metrics['f1-score']))\n",
        "\n",
        "print(\"\\nOverall Accuracy: {:.4f}\".format(report['accuracy']))"
      ]
    },
    {
      "cell_type": "code",
      "execution_count": 24,
      "metadata": {
        "colab": {
          "base_uri": "https://localhost:8080/"
        },
        "id": "yXkN2NAta5j3",
        "outputId": "5316b353-9e9e-4c5d-8284-d1426cfa2cae"
      },
      "outputs": [
        {
          "name": "stdout",
          "output_type": "stream",
          "text": [
            "Class        Accuracy\n",
            "=====================\n",
            "Anger            0.93\n",
            "Fear             0.82\n",
            "Joy              0.92\n",
            "Sadness          0.75\n"
          ]
        }
      ],
      "source": [
        "# Classwise Accuracies\n",
        "classwise_accuracy = np.diag(cm) / cm.sum(axis=1)\n",
        "print(\"Class        Accuracy\")\n",
        "print(\"=====================\")\n",
        "for class_label, accuracy in zip(CLASS_LABELS, classwise_accuracy):\n",
        "    print(f\"{class_label:<12} {accuracy:>8.2f}\")"
      ]
    },
    {
      "cell_type": "code",
      "execution_count": 24,
      "metadata": {
        "id": "m83XZp2HjhXY"
      },
      "outputs": [],
      "source": []
    }
  ],
  "metadata": {
    "accelerator": "GPU",
    "colab": {
      "gpuType": "T4",
      "provenance": []
    },
    "kernelspec": {
      "display_name": "Python 3",
      "name": "python3"
    },
    "language_info": {
      "codemirror_mode": {
        "name": "ipython",
        "version": 3
      },
      "file_extension": ".py",
      "mimetype": "text/x-python",
      "name": "python",
      "nbconvert_exporter": "python",
      "pygments_lexer": "ipython3",
      "version": "3.10.10"
    }
  },
  "nbformat": 4,
  "nbformat_minor": 0
}
