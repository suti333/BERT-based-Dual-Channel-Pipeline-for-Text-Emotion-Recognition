{
 "cells": [
  {
   "cell_type": "code",
   "execution_count": null,
   "metadata": {},
   "outputs": [
    {
     "name": "stderr",
     "output_type": "stream",
     "text": [
      "/home/deepak/.local/lib/python3.10/site-packages/tqdm/auto.py:21: TqdmWarning: IProgress not found. Please update jupyter and ipywidgets. See https://ipywidgets.readthedocs.io/en/stable/user_install.html\n",
      "  from .autonotebook import tqdm as notebook_tqdm\n"
     ]
    }
   ],
   "source": [
    "import numpy as np\n",
    "import pandas as pd\n",
    "import torch\n",
    "import torch.nn as nn\n",
    "import torch.nn.functional as F\n",
    "from transformers import RobertaModel, RobertaTokenizer\n",
    "from sklearn.model_selection import train_test_split\n",
    "from torch.utils.data import DataLoader, TensorDataset\n",
    "from torch.optim import AdamW\n",
    "from sklearn.metrics import precision_score, recall_score, f1_score, confusion_matrix, classification_report\n",
    "from sklearn import preprocessing\n",
    "import matplotlib.pyplot as plt\n",
    "import seaborn as sns"
   ]
  },
  {
   "cell_type": "code",
   "execution_count": null,
   "metadata": {},
   "outputs": [],
   "source": [
    "ISEAR_CSV = \"./datasets_csv/ISEAR_dataset.csv\"\n",
    "CLASS_LABELS = ['Anger', 'Fear', 'Joy', 'Sadness']\n",
    "ROBERTA_CONFIG = \"roberta-base\"\n",
    "MAX_LEN = 256\n",
    "BATCH_SIZE = 32\n",
    "NUM_CLASSES = 4\n",
    "LEARNING_RATE = 2e-6\n",
    "EPOCHS = 12"
   ]
  },
  {
   "cell_type": "code",
   "execution_count": null,
   "metadata": {},
   "outputs": [],
   "source": [
    "class ClassificationModule(nn.Module):\n",
    "    def __init__(self, number_of_classes, dropout_val):\n",
    "        super(ClassificationModule, self).__init__()\n",
    "        self.dense1 = nn.Linear(in_features=4960, out_features=128)\n",
    "        self.dropout = nn.Dropout(p=0.2)\n",
    "        self.classification_output = nn.Linear(in_features=128, out_features=number_of_classes)\n",
    "\n",
    "    def forward(self, tri_channel_output):\n",
    "        dense1_output = F.relu(self.dense1(tri_channel_output))                                 # shape (BS, 128)\n",
    "        dropout_output = self.dropout(dense1_output)                                            # shape (BS, 128)\n",
    "        classification_output = F.softmax(self.classification_output(dropout_output), dim=1)    # shape (BS, 4)\n",
    "        return classification_output\n"
   ]
  },
  {
   "cell_type": "code",
   "execution_count": null,
   "metadata": {},
   "outputs": [],
   "source": [
    "class AttentionLayer(nn.Module):\n",
    "    def __init__(self, input_shape):\n",
    "        super(AttentionLayer, self).__init__()\n",
    "        self.W = nn.Parameter(torch.randn(input_shape[-1], 1))\n",
    "        self.b = nn.Parameter(torch.zeros(input_shape[1], 1))\n",
    "\n",
    "    def forward(self, x):\n",
    "        e = torch.tanh(torch.matmul(x, self.W) + self.b)\n",
    "        a = F.softmax(e, dim=1)\n",
    "        output = x * a\n",
    "        return torch.sum(output, dim=1)"
   ]
  },
  {
   "cell_type": "code",
   "execution_count": null,
   "metadata": {},
   "outputs": [],
   "source": [
    "class FeedForwardNetwork(nn.Module):\n",
    "    def __init__(self, d_model, dff):\n",
    "        super(FeedForwardNetwork, self).__init__()\n",
    "        self.ffn = nn.Sequential(\n",
    "            nn.Linear(in_features=d_model, out_features=dff),\n",
    "            nn.ReLU(),\n",
    "            nn.Linear(dff, d_model)\n",
    "        )\n",
    "\n",
    "    def forward(self, x):\n",
    "        return self.ffn(x)"
   ]
  },
  {
   "cell_type": "code",
   "execution_count": null,
   "metadata": {},
   "outputs": [],
   "source": [
    "class TransformerEncoderLayer(nn.Module):\n",
    "    def __init__(self, d_model, num_heads, dff, epsilon=1e-6, rate=0.1):\n",
    "        super(TransformerEncoderLayer, self).__init__()\n",
    "\n",
    "        self.mha = nn.MultiheadAttention(embed_dim=d_model, num_heads=num_heads)\n",
    "        self.ffn = FeedForwardNetwork(d_model, dff)\n",
    "\n",
    "        self.layernorm1 = nn.LayerNorm(d_model)\n",
    "        self.layernorm2 = nn.LayerNorm(d_model)\n",
    "\n",
    "        self.dropout1 = nn.Dropout(rate)\n",
    "        self.dropout2 = nn.Dropout(rate)\n",
    "\n",
    "    def forward(self, x, mask=None):\n",
    "        mha_output, _ = self.mha(x, x, x, attn_mask=mask)\n",
    "        dropout1_output = self.dropout1(mha_output)\n",
    "        output1 = self.layernorm1(x + dropout1_output)\n",
    "\n",
    "        ffn_output = self.ffn(output1)\n",
    "        dropout2_output = self.dropout2(ffn_output)\n",
    "        output2 = self.layernorm2(output1 + dropout2_output)\n",
    "\n",
    "        return output2"
   ]
  },
  {
   "cell_type": "code",
   "execution_count": null,
   "metadata": {},
   "outputs": [],
   "source": [
    "class GatingLayer(nn.Module):\n",
    "    def __init__(self, input_size):\n",
    "        super(GatingLayer, self).__init__()\n",
    "        self.gate = nn.Linear(in_features=input_size, out_features=input_size)\n",
    "        self.sigmoid = nn.Sigmoid()\n",
    "\n",
    "    def forward(self, x):\n",
    "        gate_value = self.sigmoid(self.gate(x))\n",
    "        return x * gate_value"
   ]
  },
  {
   "cell_type": "code",
   "execution_count": null,
   "metadata": {},
   "outputs": [],
   "source": [
    "class TriChannelModule(nn.Module):\n",
    "    def __init__(self, input_size, lstm_hidden_size, dropout_val):\n",
    "        super(TriChannelModule,self).__init__()\n",
    "\n",
    "        self.channel1_conv = nn.Conv1d(in_channels=input_size, out_channels=32, kernel_size=3)\n",
    "        self.channel1_maxpool = nn.MaxPool1d(kernel_size=2)\n",
    "        self.channel1_flatten = nn.Flatten()\n",
    "        self.channel1_gating = GatingLayer(input_size=4064)\n",
    "\n",
    "        self.channel2_bilstm = nn.LSTM(input_size=input_size, hidden_size=lstm_hidden_size, num_layers=1, batch_first=True, bidirectional=True)\n",
    "        self.channel2_attention_layer = AttentionLayer(input_shape=(BATCH_SIZE, MAX_LEN, lstm_hidden_size*2))\n",
    "        self.channel2_gating = GatingLayer(input_size=lstm_hidden_size*2)\n",
    "\n",
    "        self.transformer_encoder = TransformerEncoderLayer(d_model=input_size, num_heads=1, dff=512)\n",
    "        self.channel3_attention_layer = AttentionLayer(input_shape=(BATCH_SIZE, MAX_LEN, input_size))\n",
    "        self.channel3_gating=GatingLayer(input_size=input_size)\n",
    "\n",
    "    def forward(self, roberta_embeddings):\n",
    "\n",
    "        # Pipeline A: CNN for Local Feature Extraction\n",
    "        roberta_embeddings = roberta_embeddings.permute(0, 2, 1)                                                            # shape (BS, 768, 256)\n",
    "        channel1_conv_output = self.channel1_conv(roberta_embeddings)                                                       # shape (BS, 32, 254)\n",
    "        channel1_max_pool_output = self.channel1_maxpool(channel1_conv_output)                                              # shape (BS, 32, 127)\n",
    "        channel1_flatten_output=self.channel1_flatten(channel1_max_pool_output)                                             # shape (BS, 4064)\n",
    "        channel1_gating_output = self.channel1_gating(channel1_flatten_output)                                              # shape (BS, 4064)\n",
    "\n",
    "        # Pipeline B: BiLSTM with Attention for Sequential Context\n",
    "        roberta_embeddings = roberta_embeddings.permute(0, 2, 1)                                                            # shape (BS, 256, 768)\n",
    "        channel2_bilstm_output, _ = self.channel2_bilstm(roberta_embeddings)                                                # shape (BS, 256, 128)\n",
    "        channel2_bilstm_attention_output = self.channel2_attention_layer(channel2_bilstm_output)                            # shape (BS, 128)\n",
    "        channel2_gating_output = self.channel2_gating(channel2_bilstm_attention_output)                                     # shape (BS, 128)\n",
    "\n",
    "        # Pipeline C: Transformer Encoder for Contextual Word Representations\n",
    "        channel3_transformer_block_output = self.transformer_encoder(roberta_embeddings)                                    # shape (BS, 256, 768)\n",
    "        channel3_transformer_attention_output = self.channel3_attention_layer(channel3_transformer_block_output)            # shape (BS, 768)\n",
    "        channel3_gating_output = self.channel3_gating(channel3_transformer_attention_output)                                # shape (BS, 768)\n",
    "\n",
    "        tri_channel_output = torch.cat((channel1_gating_output, channel2_gating_output, channel3_gating_output), dim=1)     # shape (BS, 4960)\n",
    "        return tri_channel_output\n"
   ]
  },
  {
   "cell_type": "code",
   "execution_count": null,
   "metadata": {},
   "outputs": [],
   "source": [
    "class TER(nn.Module):\n",
    "    def __init__(self, number_of_classes, lstm_hidden_size=64, dropout_val=0.1):\n",
    "        super(TER, self).__init__()\n",
    "        self.roberta = RobertaModel.from_pretrained(ROBERTA_CONFIG)\n",
    "        self.tri_channel = TriChannelModule(input_size=self.roberta.config.hidden_size, lstm_hidden_size=lstm_hidden_size, dropout_val=dropout_val)\n",
    "        self.classifier = ClassificationModule(number_of_classes=number_of_classes, dropout_val=dropout_val)\n",
    "\n",
    "    def forward(self, input_seq, attention_mask):\n",
    "        roberta_pooled_output = self.roberta(input_seq, attention_mask=attention_mask)[0]   # shape (BS, 256, 768)\n",
    "        tri_channel_output = self.tri_channel(roberta_pooled_output)                        # shape (BS, 4960)\n",
    "        classification_output = self.classifier(tri_channel_output)                         # shape (BS, 4)\n",
    "        return classification_output"
   ]
  },
  {
   "cell_type": "code",
   "execution_count": null,
   "metadata": {},
   "outputs": [],
   "source": [
    "def tokenize_sentences(sentences, tokenizer, max_length):\n",
    "    tokenized_sequences = tokenizer(sentences, padding='max_length', truncation=True, max_length=max_length, return_tensors='pt')\n",
    "    return tokenized_sequences['input_ids'], tokenized_sequences['attention_mask']"
   ]
  },
  {
   "cell_type": "code",
   "execution_count": null,
   "metadata": {},
   "outputs": [
    {
     "data": {
      "text/html": [
       "<div>\n",
       "<style scoped>\n",
       "    .dataframe tbody tr th:only-of-type {\n",
       "        vertical-align: middle;\n",
       "    }\n",
       "\n",
       "    .dataframe tbody tr th {\n",
       "        vertical-align: top;\n",
       "    }\n",
       "\n",
       "    .dataframe thead th {\n",
       "        text-align: right;\n",
       "    }\n",
       "</style>\n",
       "<table border=\"1\" class=\"dataframe\">\n",
       "  <thead>\n",
       "    <tr style=\"text-align: right;\">\n",
       "      <th></th>\n",
       "      <th>ISEAR_labels</th>\n",
       "      <th>ISEAR_sentences</th>\n",
       "    </tr>\n",
       "  </thead>\n",
       "  <tbody>\n",
       "    <tr>\n",
       "      <th>0</th>\n",
       "      <td>joy</td>\n",
       "      <td>During the period of falling in love, each tim...</td>\n",
       "    </tr>\n",
       "    <tr>\n",
       "      <th>1</th>\n",
       "      <td>fear</td>\n",
       "      <td>When I was involved in a traffic accident.</td>\n",
       "    </tr>\n",
       "    <tr>\n",
       "      <th>2</th>\n",
       "      <td>anger</td>\n",
       "      <td>When I was driving home after  several days of...</td>\n",
       "    </tr>\n",
       "    <tr>\n",
       "      <th>3</th>\n",
       "      <td>sadness</td>\n",
       "      <td>When I lost the person who meant the most to me.</td>\n",
       "    </tr>\n",
       "    <tr>\n",
       "      <th>4</th>\n",
       "      <td>joy</td>\n",
       "      <td>When I got a letter offering me the Summer job...</td>\n",
       "    </tr>\n",
       "    <tr>\n",
       "      <th>...</th>\n",
       "      <td>...</td>\n",
       "      <td>...</td>\n",
       "    </tr>\n",
       "    <tr>\n",
       "      <th>4376</th>\n",
       "      <td>sadness</td>\n",
       "      <td>This issue worried me rather than saddening me...</td>\n",
       "    </tr>\n",
       "    <tr>\n",
       "      <th>4377</th>\n",
       "      <td>joy</td>\n",
       "      <td>I received a letter from a distant friend.</td>\n",
       "    </tr>\n",
       "    <tr>\n",
       "      <th>4378</th>\n",
       "      <td>fear</td>\n",
       "      <td>My parents were out and I was the eldest at ho...</td>\n",
       "    </tr>\n",
       "    <tr>\n",
       "      <th>4379</th>\n",
       "      <td>anger</td>\n",
       "      <td>Two years back someone invited me to be the tu...</td>\n",
       "    </tr>\n",
       "    <tr>\n",
       "      <th>4380</th>\n",
       "      <td>sadness</td>\n",
       "      <td>I had taken the responsibility to do something...</td>\n",
       "    </tr>\n",
       "  </tbody>\n",
       "</table>\n",
       "<p>4381 rows × 2 columns</p>\n",
       "</div>"
      ],
      "text/plain": [
       "     ISEAR_labels                                    ISEAR_sentences\n",
       "0             joy  During the period of falling in love, each tim...\n",
       "1            fear         When I was involved in a traffic accident.\n",
       "2           anger  When I was driving home after  several days of...\n",
       "3         sadness  When I lost the person who meant the most to me. \n",
       "4             joy  When I got a letter offering me the Summer job...\n",
       "...           ...                                                ...\n",
       "4376      sadness  This issue worried me rather than saddening me...\n",
       "4377          joy         I received a letter from a distant friend.\n",
       "4378         fear  My parents were out and I was the eldest at ho...\n",
       "4379        anger  Two years back someone invited me to be the tu...\n",
       "4380      sadness  I had taken the responsibility to do something...\n",
       "\n",
       "[4381 rows x 2 columns]"
      ]
     },
     "metadata": {},
     "output_type": "display_data"
    }
   ],
   "source": [
    "ISEAR_dataset = pd.read_csv(ISEAR_CSV, index_col=0)\n",
    "ISEAR_dataset"
   ]
  },
  {
   "cell_type": "code",
   "execution_count": null,
   "metadata": {},
   "outputs": [
    {
     "data": {
      "text/plain": [
       "ISEAR_labels\n",
       "sadness    1096\n",
       "anger      1096\n",
       "fear       1095\n",
       "joy        1094\n",
       "Name: count, dtype: int64"
      ]
     },
     "metadata": {},
     "output_type": "display_data"
    }
   ],
   "source": [
    "ISEAR_dataset['ISEAR_labels'].value_counts()"
   ]
  },
  {
   "cell_type": "code",
   "execution_count": null,
   "metadata": {},
   "outputs": [],
   "source": [
    "ISEAR_train_data, ISEAR_val_data = train_test_split(ISEAR_dataset, test_size=0.1, random_state=42)\n",
    "ISEAR_X_train = list(ISEAR_train_data['ISEAR_sentences'])\n",
    "ISEAR_X_val = list(ISEAR_val_data['ISEAR_sentences'])\n",
    "ISEAR_Y_train = list(ISEAR_train_data['ISEAR_labels'])\n",
    "ISEAR_Y_val = list(ISEAR_val_data['ISEAR_labels'])"
   ]
  },
  {
   "cell_type": "code",
   "execution_count": null,
   "metadata": {},
   "outputs": [],
   "source": [
    "# Initialize XLM-RoBERTa tokenizer\n",
    "tokenizer = RobertaTokenizer.from_pretrained(ROBERTA_CONFIG)"
   ]
  },
  {
   "cell_type": "code",
   "execution_count": null,
   "metadata": {},
   "outputs": [],
   "source": [
    "train_input_ids, train_attention_mask = tokenize_sentences(ISEAR_X_train, tokenizer, max_length=MAX_LEN)\n",
    "val_input_ids, val_attention_mask = tokenize_sentences(ISEAR_X_val, tokenizer, max_length=MAX_LEN)"
   ]
  },
  {
   "cell_type": "code",
   "execution_count": null,
   "metadata": {},
   "outputs": [],
   "source": [
    "label_encoder = preprocessing.LabelEncoder()\n",
    "ISEAR_Y_train_encoded = label_encoder.fit_transform(ISEAR_Y_train)\n",
    "ISEAR_Y_val_encoded = label_encoder.fit_transform(ISEAR_Y_val)"
   ]
  },
  {
   "cell_type": "code",
   "execution_count": null,
   "metadata": {},
   "outputs": [
    {
     "data": {
      "text/plain": [
       "{'anger': 0, 'fear': 1, 'joy': 2, 'sadness': 3}"
      ]
     },
     "metadata": {},
     "output_type": "display_data"
    }
   ],
   "source": [
    "label_mapping = dict(zip(label_encoder.classes_, label_encoder.transform(label_encoder.classes_)))\n",
    "label_mapping"
   ]
  },
  {
   "cell_type": "code",
   "execution_count": null,
   "metadata": {},
   "outputs": [],
   "source": [
    "# Convert labels to PyTorch tensors\n",
    "train_labels = torch.tensor(ISEAR_Y_train_encoded, dtype=torch.int64)\n",
    "val_labels = torch.tensor(ISEAR_Y_val_encoded, dtype=torch.int64)"
   ]
  },
  {
   "cell_type": "code",
   "execution_count": null,
   "metadata": {},
   "outputs": [],
   "source": [
    "# Creating Dataloaders\n",
    "train_dataset = TensorDataset(train_input_ids, train_attention_mask, train_labels)\n",
    "train_loader = DataLoader(train_dataset, batch_size=BATCH_SIZE, shuffle=True)\n",
    "val_dataset = TensorDataset(val_input_ids, val_attention_mask, val_labels)\n",
    "val_loader = DataLoader(val_dataset, batch_size=BATCH_SIZE)"
   ]
  },
  {
   "cell_type": "code",
   "execution_count": null,
   "metadata": {},
   "outputs": [
    {
     "name": "stderr",
     "output_type": "stream",
     "text": [
      "Some weights of RobertaModel were not initialized from the model checkpoint at roberta-base and are newly initialized: ['roberta.pooler.dense.bias', 'roberta.pooler.dense.weight']\n",
      "You should probably TRAIN this model on a down-stream task to be able to use it for predictions and inference.\n"
     ]
    }
   ],
   "source": [
    "# Initializing the model\n",
    "model = TER(number_of_classes=NUM_CLASSES)"
   ]
  },
  {
   "cell_type": "code",
   "execution_count": null,
   "metadata": {},
   "outputs": [],
   "source": [
    "# Define optimizer and loss function\n",
    "optimizer = AdamW(model.parameters(), lr=LEARNING_RATE)\n",
    "criterion = nn.CrossEntropyLoss()"
   ]
  },
  {
   "cell_type": "code",
   "execution_count": null,
   "metadata": {},
   "outputs": [
    {
     "data": {
      "text/plain": [
       "TER(\n",
       "  (roberta): RobertaModel(\n",
       "    (embeddings): RobertaEmbeddings(\n",
       "      (word_embeddings): Embedding(50265, 768, padding_idx=1)\n",
       "      (position_embeddings): Embedding(514, 768, padding_idx=1)\n",
       "      (token_type_embeddings): Embedding(1, 768)\n",
       "      (LayerNorm): LayerNorm((768,), eps=1e-05, elementwise_affine=True)\n",
       "      (dropout): Dropout(p=0.1, inplace=False)\n",
       "    )\n",
       "    (encoder): RobertaEncoder(\n",
       "      (layer): ModuleList(\n",
       "        (0-11): 12 x RobertaLayer(\n",
       "          (attention): RobertaAttention(\n",
       "            (self): RobertaSelfAttention(\n",
       "              (query): Linear(in_features=768, out_features=768, bias=True)\n",
       "              (key): Linear(in_features=768, out_features=768, bias=True)\n",
       "              (value): Linear(in_features=768, out_features=768, bias=True)\n",
       "              (dropout): Dropout(p=0.1, inplace=False)\n",
       "            )\n",
       "            (output): RobertaSelfOutput(\n",
       "              (dense): Linear(in_features=768, out_features=768, bias=True)\n",
       "              (LayerNorm): LayerNorm((768,), eps=1e-05, elementwise_affine=True)\n",
       "              (dropout): Dropout(p=0.1, inplace=False)\n",
       "            )\n",
       "          )\n",
       "          (intermediate): RobertaIntermediate(\n",
       "            (dense): Linear(in_features=768, out_features=3072, bias=True)\n",
       "            (intermediate_act_fn): GELUActivation()\n",
       "          )\n",
       "          (output): RobertaOutput(\n",
       "            (dense): Linear(in_features=3072, out_features=768, bias=True)\n",
       "            (LayerNorm): LayerNorm((768,), eps=1e-05, elementwise_affine=True)\n",
       "            (dropout): Dropout(p=0.1, inplace=False)\n",
       "          )\n",
       "        )\n",
       "      )\n",
       "    )\n",
       "    (pooler): RobertaPooler(\n",
       "      (dense): Linear(in_features=768, out_features=768, bias=True)\n",
       "      (activation): Tanh()\n",
       "    )\n",
       "  )\n",
       "  (tri_channel): TriChannelModule(\n",
       "    (channel1_conv): Conv1d(768, 32, kernel_size=(3,), stride=(1,))\n",
       "    (channel1_maxpool): MaxPool1d(kernel_size=2, stride=2, padding=0, dilation=1, ceil_mode=False)\n",
       "    (channel1_flatten): Flatten(start_dim=1, end_dim=-1)\n",
       "    (channel1_gating): GatingLayer(\n",
       "      (gate): Linear(in_features=4064, out_features=4064, bias=True)\n",
       "      (sigmoid): Sigmoid()\n",
       "    )\n",
       "    (channel2_bilstm): LSTM(768, 64, batch_first=True, bidirectional=True)\n",
       "    (channel2_attention_layer): AttentionLayer()\n",
       "    (channel2_gating): GatingLayer(\n",
       "      (gate): Linear(in_features=128, out_features=128, bias=True)\n",
       "      (sigmoid): Sigmoid()\n",
       "    )\n",
       "    (transformer_encoder): TransformerEncoderLayer(\n",
       "      (mha): MultiheadAttention(\n",
       "        (out_proj): NonDynamicallyQuantizableLinear(in_features=768, out_features=768, bias=True)\n",
       "      )\n",
       "      (ffn): FeedForwardNetwork(\n",
       "        (ffn): Sequential(\n",
       "          (0): Linear(in_features=768, out_features=512, bias=True)\n",
       "          (1): ReLU()\n",
       "          (2): Linear(in_features=512, out_features=768, bias=True)\n",
       "        )\n",
       "      )\n",
       "      (layernorm1): LayerNorm((768,), eps=1e-05, elementwise_affine=True)\n",
       "      (layernorm2): LayerNorm((768,), eps=1e-05, elementwise_affine=True)\n",
       "      (dropout1): Dropout(p=0.1, inplace=False)\n",
       "      (dropout2): Dropout(p=0.1, inplace=False)\n",
       "    )\n",
       "    (channel3_attention_layer): AttentionLayer()\n",
       "    (channel3_gating): GatingLayer(\n",
       "      (gate): Linear(in_features=768, out_features=768, bias=True)\n",
       "      (sigmoid): Sigmoid()\n",
       "    )\n",
       "  )\n",
       "  (classifier): ClassificationModule(\n",
       "    (dense1): Linear(in_features=4960, out_features=128, bias=True)\n",
       "    (dropout): Dropout(p=0.2, inplace=False)\n",
       "    (classification_output): Linear(in_features=128, out_features=4, bias=True)\n",
       "  )\n",
       ")"
      ]
     },
     "metadata": {},
     "output_type": "display_data"
    }
   ],
   "source": [
    "device = torch.device(\"cuda:1\" if torch.cuda.is_available() else \"cpu\")\n",
    "model.to(device)"
   ]
  },
  {
   "cell_type": "code",
   "execution_count": null,
   "metadata": {},
   "outputs": [
    {
     "name": "stdout",
     "output_type": "stream",
     "text": [
      "Epoch [1/12] Batch [50/124] Loss: 0.6928\n",
      "Epoch [1/12] Batch [100/124] Loss: 0.6917\n",
      "Epoch [2/12] Batch [50/124] Loss: 0.6565\n",
      "Epoch [2/12] Batch [100/124] Loss: 0.5497\n",
      "Epoch [3/12] Batch [50/124] Loss: 0.4773\n",
      "Epoch [3/12] Batch [100/124] Loss: 0.4627\n",
      "Epoch [4/12] Batch [50/124] Loss: 0.4475\n",
      "Epoch [4/12] Batch [100/124] Loss: 0.4502\n",
      "Epoch [5/12] Batch [50/124] Loss: 0.4379\n",
      "Epoch [5/12] Batch [100/124] Loss: 0.4399\n",
      "Epoch [6/12] Batch [50/124] Loss: 0.4353\n",
      "Epoch [6/12] Batch [100/124] Loss: 0.4384\n",
      "Epoch [7/12] Batch [50/124] Loss: 0.4286\n",
      "Epoch [7/12] Batch [100/124] Loss: 0.4333\n",
      "Epoch [8/12] Batch [50/124] Loss: 0.4199\n",
      "Epoch [8/12] Batch [100/124] Loss: 0.4299\n",
      "Epoch [9/12] Batch [50/124] Loss: 0.4241\n",
      "Epoch [9/12] Batch [100/124] Loss: 0.4220\n",
      "Epoch [10/12] Batch [50/124] Loss: 0.4208\n",
      "Epoch [10/12] Batch [100/124] Loss: 0.4208\n",
      "Epoch [11/12] Batch [50/124] Loss: 0.4205\n",
      "Epoch [11/12] Batch [100/124] Loss: 0.4182\n",
      "Epoch [12/12] Batch [50/124] Loss: 0.4195\n",
      "Epoch [12/12] Batch [100/124] Loss: 0.4194\n"
     ]
    }
   ],
   "source": [
    "# Training the model\n",
    "for epoch in range(EPOCHS):\n",
    "    model.train()\n",
    "    running_loss = 0.0\n",
    "    for batch_idx, (input_seq, attention_mask, labels) in enumerate(train_loader):\n",
    "        input_seq = input_seq.to(device)\n",
    "        attention_mask = attention_mask.to(device)\n",
    "        labels = labels.to(device)\n",
    "\n",
    "        optimizer.zero_grad()\n",
    "\n",
    "        output = model(input_seq, attention_mask)\n",
    "\n",
    "        loss = criterion(output, labels)\n",
    "        loss.backward()\n",
    "        optimizer.step()\n",
    "\n",
    "        running_loss += loss.item()\n",
    "        if batch_idx % 50 == 49:\n",
    "            print(f\"Epoch [{epoch + 1}/{EPOCHS}] \"\n",
    "                  f\"Batch [{batch_idx + 1}/{len(train_loader)}] \"\n",
    "                  f\"Loss: {running_loss / 100:.4f}\")\n",
    "            running_loss = 0.0"
   ]
  },
  {
   "cell_type": "code",
   "execution_count": null,
   "metadata": {},
   "outputs": [
    {
     "name": "stdout",
     "output_type": "stream",
     "text": [
      "Validation Accuracy: 87.02%\n",
      "F1-score: 0.8693\n",
      "Precision: 0.8726\n",
      "Recall: 0.8702\n"
     ]
    }
   ],
   "source": [
    "# Evaluating the model\n",
    "model.eval()\n",
    "total_correct = 0\n",
    "total_samples = 0\n",
    "\n",
    "predicted_labels = []\n",
    "true_labels = []\n",
    "\n",
    "with torch.no_grad():\n",
    "    for input_seq, attention_mask, labels in val_loader:\n",
    "        input_seq = input_seq.to(device)\n",
    "        attention_mask = attention_mask.to(device)\n",
    "        labels = labels.to(device)\n",
    "\n",
    "        output = model(input_seq, attention_mask)\n",
    "        _, predicted = torch.max(output, 1)\n",
    "\n",
    "        total_correct += (predicted == labels).sum().item()\n",
    "        total_samples += labels.size(0)\n",
    "\n",
    "        predicted_labels.extend(predicted.cpu().numpy())\n",
    "        true_labels.extend(labels.cpu().numpy())\n",
    "\n",
    "# Calculate accuracy\n",
    "accuracy = total_correct / total_samples\n",
    "print(f\"Validation Accuracy: {accuracy * 100:.2f}%\")\n",
    "\n",
    "# Calculate precision, recall, and F1-score\n",
    "precision = precision_score(true_labels, predicted_labels, average='weighted')\n",
    "recall = recall_score(true_labels, predicted_labels, average='weighted')\n",
    "f1 = f1_score(true_labels, predicted_labels, average='weighted')\n",
    "\n",
    "print(f\"F1-score: {f1:.4f}\")\n",
    "print(f\"Precision: {precision:.4f}\")\n",
    "print(f\"Recall: {recall:.4f}\")"
   ]
  },
  {
   "cell_type": "code",
   "execution_count": null,
   "metadata": {},
   "outputs": [],
   "source": [
    "# Confusion Matrix\n",
    "cm = confusion_matrix(true_labels, predicted_labels, normalize=\"true\")"
   ]
  },
  {
   "cell_type": "code",
   "execution_count": null,
   "metadata": {},
   "outputs": [
    {
     "data": {
      "image/png": "[encoded data removed]",
      "text/plain": [
       "<Figure size 640x480 with 2 Axes>"
      ]
     },
     "metadata": {},
     "output_type": "display_data"
    }
   ],
   "source": [
    "sns.set(font_scale=1.2)\n",
    "sns.heatmap(cm, annot=True, fmt=\".2f\", cmap='Blues', cbar=True, xticklabels=CLASS_LABELS, yticklabels=CLASS_LABELS)\n",
    "\n",
    "plt.title('Normalized Confusion Matrix')\n",
    "plt.xlabel('Predicted Label')\n",
    "plt.ylabel('True Label')\n",
    "plt.savefig('Confusion Matrix.png')\n",
    "plt.show()"
   ]
  },
  {
   "cell_type": "code",
   "execution_count": null,
   "metadata": {},
   "outputs": [
    {
     "name": "stdout",
     "output_type": "stream",
     "text": [
      "Class           F1-Score        Precision       Recall         \n",
      "========================================================\n",
      "Anger           0.8351          0.8100          0.8617         \n",
      "Fear            0.8750          0.8468          0.9052         \n",
      "Joy             0.9360          0.9135          0.9596         \n",
      "Sadness         0.8382          0.9099          0.7769         \n",
      "\n",
      "Overall Accuracy: 0.8702\n"
     ]
    }
   ],
   "source": [
    "# Classification Report\n",
    "report = classification_report(true_labels, predicted_labels, target_names=CLASS_LABELS, output_dict=True)\n",
    "\n",
    "print(\"{:<15} {:<15} {:<15} {:<15}\".format(\"Class\", \"F1-Score\", \"Precision\", \"Recall\"))\n",
    "print(\"========================================================\")\n",
    "for class_label, metrics in report.items():\n",
    "    if class_label in CLASS_LABELS:\n",
    "        print(\"{:<15} {:<15.4f} {:<15.4f} {:<15.4f}\".format(class_label, metrics['f1-score'], metrics['precision'], metrics['recall']))\n",
    "\n",
    "print(\"\\nOverall Accuracy: {:.4f}\".format(report['accuracy']))"
   ]
  },
  {
   "cell_type": "code",
   "execution_count": null,
   "metadata": {},
   "outputs": [],
   "source": []
  }
 ],
 "metadata": {
  "language_info": {
   "name": "python"
  }
 },
 "nbformat": 4,
 "nbformat_minor": 2
}
